{
 "cells": [
  {
   "cell_type": "code",
   "execution_count": 25,
   "metadata": {},
   "outputs": [],
   "source": [
    "import seaborn as sns\n",
    "import matplotlib.pyplot as plt\n",
    "import pandas as pd\n",
    "import numpy as np"
   ]
  },
  {
   "cell_type": "code",
   "execution_count": 26,
   "metadata": {},
   "outputs": [
    {
     "data": {
      "text/html": [
       "<div>\n",
       "<style scoped>\n",
       "    .dataframe tbody tr th:only-of-type {\n",
       "        vertical-align: middle;\n",
       "    }\n",
       "\n",
       "    .dataframe tbody tr th {\n",
       "        vertical-align: top;\n",
       "    }\n",
       "\n",
       "    .dataframe thead th {\n",
       "        text-align: right;\n",
       "    }\n",
       "</style>\n",
       "<table border=\"1\" class=\"dataframe\">\n",
       "  <thead>\n",
       "    <tr style=\"text-align: right;\">\n",
       "      <th></th>\n",
       "      <th>ID</th>\n",
       "      <th>Category</th>\n",
       "      <th>Name</th>\n",
       "      <th>Assemble</th>\n",
       "      <th>Type</th>\n",
       "      <th>Km</th>\n",
       "      <th>CarColor</th>\n",
       "      <th>InteriorColor</th>\n",
       "      <th>CarDoor</th>\n",
       "      <th>CarSeat</th>\n",
       "      <th>Engine</th>\n",
       "      <th>Gearbox</th>\n",
       "      <th>Price</th>\n",
       "      <th>Location</th>\n",
       "      <th>Contact</th>\n",
       "    </tr>\n",
       "  </thead>\n",
       "  <tbody>\n",
       "    <tr>\n",
       "      <th>0</th>\n",
       "      <td>Mã: 4132055</td>\n",
       "      <td>Xe mới 2022</td>\n",
       "      <td>Mercedes Benz GLC 200 4Matic - 2022</td>\n",
       "      <td>Lắp ráp trong nước</td>\n",
       "      <td>SUV</td>\n",
       "      <td>0 Km</td>\n",
       "      <td>Trắng</td>\n",
       "      <td>Kem</td>\n",
       "      <td>5 cửa</td>\n",
       "      <td>5 chỗ</td>\n",
       "      <td>Xăng\\t2.0 L</td>\n",
       "      <td>Số tự động</td>\n",
       "      <td>2 Tỷ 49 Triệu</td>\n",
       "      <td>Hà Nội</td>\n",
       "      <td>Liên hệ: Lê Thị Vân Hà Nội Hà Nội ĐT: 0988 92...</td>\n",
       "    </tr>\n",
       "    <tr>\n",
       "      <th>1</th>\n",
       "      <td>Mã: 3868971</td>\n",
       "      <td>Xe mới 2022</td>\n",
       "      <td>Mercedes Benz GLB 200 AMG - 2022</td>\n",
       "      <td>Nhập khẩu</td>\n",
       "      <td>SUV</td>\n",
       "      <td>0 Km</td>\n",
       "      <td>Trắng</td>\n",
       "      <td>Màu khác</td>\n",
       "      <td>5 cửa</td>\n",
       "      <td>7 chỗ</td>\n",
       "      <td>Xăng\\t1.3 L</td>\n",
       "      <td>Số tự động</td>\n",
       "      <td>1 Tỷ 989 Triệu</td>\n",
       "      <td>Hà Nội</td>\n",
       "      <td>Liên hệ: Lê Thị Vân 46 Láng Hạ, Láng Hạ, Đống...</td>\n",
       "    </tr>\n",
       "    <tr>\n",
       "      <th>2</th>\n",
       "      <td>Mã: 3798561</td>\n",
       "      <td>Xe mới 2022</td>\n",
       "      <td>Honda CRV L - 2022</td>\n",
       "      <td>Lắp ráp trong nước</td>\n",
       "      <td>SUV</td>\n",
       "      <td>0 Km</td>\n",
       "      <td>Xanh</td>\n",
       "      <td>-</td>\n",
       "      <td>5 cửa</td>\n",
       "      <td>7 chỗ</td>\n",
       "      <td>Xăng\\t1.5 L</td>\n",
       "      <td>Số tự động</td>\n",
       "      <td>1 Tỷ 83 Triệu</td>\n",
       "      <td>Hà Nội</td>\n",
       "      <td>Liên hệ: Honda ô tô An Khánh Km9a+800 Đại Lộ ...</td>\n",
       "    </tr>\n",
       "    <tr>\n",
       "      <th>3</th>\n",
       "      <td>Mã: 4198231</td>\n",
       "      <td>Xe mới 2022</td>\n",
       "      <td>Hyundai Tucson 2.0 AT Đặc biệt - 2022</td>\n",
       "      <td>Lắp ráp trong nước</td>\n",
       "      <td>Crossover</td>\n",
       "      <td>0 Km</td>\n",
       "      <td>Đỏ</td>\n",
       "      <td>Đen</td>\n",
       "      <td>5 cửa</td>\n",
       "      <td>5 chỗ</td>\n",
       "      <td>Xăng\\t2.0 L</td>\n",
       "      <td>Số tự động</td>\n",
       "      <td>925 Triệu</td>\n",
       "      <td>Hà Nội</td>\n",
       "      <td>Liên hệ: Hyundai Cầu Diễn Ô 2 - Lô 1, Cụm CN ...</td>\n",
       "    </tr>\n",
       "    <tr>\n",
       "      <th>4</th>\n",
       "      <td>Mã: 4297072</td>\n",
       "      <td>Xe cũ 2021</td>\n",
       "      <td>Mercedes Benz E class E300 AMG - 2021</td>\n",
       "      <td>Lắp ráp trong nước</td>\n",
       "      <td>Sedan</td>\n",
       "      <td>0 Km</td>\n",
       "      <td>Đen</td>\n",
       "      <td>Đen</td>\n",
       "      <td>4 cửa</td>\n",
       "      <td>5 chỗ</td>\n",
       "      <td>Xăng\\t2.0 L</td>\n",
       "      <td>Số tự động</td>\n",
       "      <td>2 Tỷ 879 Triệu</td>\n",
       "      <td>Hà Nội</td>\n",
       "      <td>Liên hệ: Mercedes - Benz An Du Hà Nội - Used ...</td>\n",
       "    </tr>\n",
       "  </tbody>\n",
       "</table>\n",
       "</div>"
      ],
      "text/plain": [
       "               ID       Category                                    Name  \\\n",
       "0    Mã: 4132055    Xe mới 2022      Mercedes Benz GLC 200 4Matic - 2022   \n",
       "1    Mã: 3868971    Xe mới 2022         Mercedes Benz GLB 200 AMG - 2022   \n",
       "2    Mã: 3798561    Xe mới 2022                       Honda CRV L - 2022   \n",
       "3    Mã: 4198231    Xe mới 2022    Hyundai Tucson 2.0 AT Đặc biệt - 2022   \n",
       "4    Mã: 4297072     Xe cũ 2021    Mercedes Benz E class E300 AMG - 2021   \n",
       "\n",
       "             Assemble       Type    Km CarColor InteriorColor CarDoor CarSeat  \\\n",
       "0  Lắp ráp trong nước        SUV  0 Km    Trắng           Kem   5 cửa   5 chỗ   \n",
       "1           Nhập khẩu        SUV  0 Km    Trắng      Màu khác   5 cửa   7 chỗ   \n",
       "2  Lắp ráp trong nước        SUV  0 Km     Xanh             -   5 cửa   7 chỗ   \n",
       "3  Lắp ráp trong nước  Crossover  0 Km       Đỏ           Đen   5 cửa   5 chỗ   \n",
       "4  Lắp ráp trong nước      Sedan  0 Km      Đen           Đen   4 cửa   5 chỗ   \n",
       "\n",
       "        Engine     Gearbox             Price  Location  \\\n",
       "0  Xăng\\t2.0 L  Số tự động    2 Tỷ 49 Triệu    Hà Nội    \n",
       "1  Xăng\\t1.3 L  Số tự động   1 Tỷ 989 Triệu    Hà Nội    \n",
       "2  Xăng\\t1.5 L  Số tự động    1 Tỷ 83 Triệu    Hà Nội    \n",
       "3  Xăng\\t2.0 L  Số tự động        925 Triệu    Hà Nội    \n",
       "4  Xăng\\t2.0 L  Số tự động   2 Tỷ 879 Triệu    Hà Nội    \n",
       "\n",
       "                                             Contact  \n",
       "0   Liên hệ: Lê Thị Vân Hà Nội Hà Nội ĐT: 0988 92...  \n",
       "1   Liên hệ: Lê Thị Vân 46 Láng Hạ, Láng Hạ, Đống...  \n",
       "2   Liên hệ: Honda ô tô An Khánh Km9a+800 Đại Lộ ...  \n",
       "3   Liên hệ: Hyundai Cầu Diễn Ô 2 - Lô 1, Cụm CN ...  \n",
       "4   Liên hệ: Mercedes - Benz An Du Hà Nội - Used ...  "
      ]
     },
     "execution_count": 26,
     "metadata": {},
     "output_type": "execute_result"
    }
   ],
   "source": [
    "file = pd.read_csv('raw_data.csv')\n",
    "file.head()\n",
    "# print(file.shape)"
   ]
  },
  {
   "cell_type": "code",
   "execution_count": 27,
   "metadata": {},
   "outputs": [
    {
     "name": "stdout",
     "output_type": "stream",
     "text": [
      "<class 'pandas.core.frame.DataFrame'>\n",
      "RangeIndex: 1980 entries, 0 to 1979\n",
      "Data columns (total 15 columns):\n",
      " #   Column         Non-Null Count  Dtype \n",
      "---  ------         --------------  ----- \n",
      " 0   ID             1980 non-null   object\n",
      " 1   Category       1980 non-null   object\n",
      " 2   Name           1980 non-null   object\n",
      " 3   Assemble       1980 non-null   object\n",
      " 4   Type           1980 non-null   object\n",
      " 5   Km             1980 non-null   object\n",
      " 6   CarColor       1980 non-null   object\n",
      " 7   InteriorColor  1980 non-null   object\n",
      " 8   CarDoor        1980 non-null   object\n",
      " 9   CarSeat        1980 non-null   object\n",
      " 10  Engine         1980 non-null   object\n",
      " 11  Gearbox        1980 non-null   object\n",
      " 12  Price          1980 non-null   object\n",
      " 13  Location       1980 non-null   object\n",
      " 14  Contact        1980 non-null   object\n",
      "dtypes: object(15)\n",
      "memory usage: 232.2+ KB\n"
     ]
    }
   ],
   "source": [
    "sns.set_theme()\n",
    "file.info()"
   ]
  },
  {
   "cell_type": "markdown",
   "metadata": {},
   "source": [
    "Dataset khi crawl về gồm có 15 cột:\n",
    "- ID: Mã xe                                 \n",
    "- Category: Các loại xe và năm đăng bán    \n",
    "- Name: Tên xe                              \n",
    "- Assemble: Lắp ráp                         \n",
    "- Type: Các loại xe                         \n",
    "- Km: Sô Km đã đi được                     \n",
    "- CarColor: Màu xe                         \n",
    "- InteriorColor: Màu nội thất \n",
    "- CarDoor: Số cửa\n",
    "- CarSeat: Số chỗ ngồi\n",
    "- Engine: Động cơ\n",
    "- Gearbox: Hộp số\n",
    "- Price: Giá tiền\n",
    "- Location: Địa điểm bán xe\n",
    "- Contact: Phương thức liên lạc"
   ]
  },
  {
   "cell_type": "markdown",
   "metadata": {},
   "source": [
    "Loại bỏ các giá trị ID trùng nhau"
   ]
  },
  {
   "cell_type": "code",
   "execution_count": 28,
   "metadata": {},
   "outputs": [
    {
     "name": "stdout",
     "output_type": "stream",
     "text": [
      "1950\n"
     ]
    }
   ],
   "source": [
    "file.drop_duplicates(subset=['ID'], inplace=True)\n",
    "print(len(file))"
   ]
  },
  {
   "cell_type": "code",
   "execution_count": 29,
   "metadata": {},
   "outputs": [
    {
     "data": {
      "text/html": [
       "<div>\n",
       "<style scoped>\n",
       "    .dataframe tbody tr th:only-of-type {\n",
       "        vertical-align: middle;\n",
       "    }\n",
       "\n",
       "    .dataframe tbody tr th {\n",
       "        vertical-align: top;\n",
       "    }\n",
       "\n",
       "    .dataframe thead th {\n",
       "        text-align: right;\n",
       "    }\n",
       "</style>\n",
       "<table border=\"1\" class=\"dataframe\">\n",
       "  <thead>\n",
       "    <tr style=\"text-align: right;\">\n",
       "      <th></th>\n",
       "      <th>ID</th>\n",
       "      <th>Category</th>\n",
       "      <th>Name</th>\n",
       "      <th>Assemble</th>\n",
       "      <th>Type</th>\n",
       "      <th>Km</th>\n",
       "      <th>CarColor</th>\n",
       "      <th>InteriorColor</th>\n",
       "      <th>CarDoor</th>\n",
       "      <th>CarSeat</th>\n",
       "      <th>Engine</th>\n",
       "      <th>Gearbox</th>\n",
       "      <th>Price</th>\n",
       "      <th>Location</th>\n",
       "      <th>Contact</th>\n",
       "    </tr>\n",
       "  </thead>\n",
       "  <tbody>\n",
       "    <tr>\n",
       "      <th>0</th>\n",
       "      <td>Mã: 4132055</td>\n",
       "      <td>Xe mới 2022</td>\n",
       "      <td>Mercedes Benz GLC 200 4Matic - 2022</td>\n",
       "      <td>Lắp ráp trong nước</td>\n",
       "      <td>SUV</td>\n",
       "      <td>0 Km</td>\n",
       "      <td>Trắng</td>\n",
       "      <td>Kem</td>\n",
       "      <td>5 cửa</td>\n",
       "      <td>5 chỗ</td>\n",
       "      <td>Xăng\\t2.0 L</td>\n",
       "      <td>Số tự động</td>\n",
       "      <td>2 Tỷ 49 Triệu</td>\n",
       "      <td>Hà Nội</td>\n",
       "      <td>Liên hệ: Lê Thị Vân Hà Nội Hà Nội ĐT: 0988 92...</td>\n",
       "    </tr>\n",
       "    <tr>\n",
       "      <th>1</th>\n",
       "      <td>Mã: 3868971</td>\n",
       "      <td>Xe mới 2022</td>\n",
       "      <td>Mercedes Benz GLB 200 AMG - 2022</td>\n",
       "      <td>Nhập khẩu</td>\n",
       "      <td>SUV</td>\n",
       "      <td>0 Km</td>\n",
       "      <td>Trắng</td>\n",
       "      <td>Màu khác</td>\n",
       "      <td>5 cửa</td>\n",
       "      <td>7 chỗ</td>\n",
       "      <td>Xăng\\t1.3 L</td>\n",
       "      <td>Số tự động</td>\n",
       "      <td>1 Tỷ 989 Triệu</td>\n",
       "      <td>Hà Nội</td>\n",
       "      <td>Liên hệ: Lê Thị Vân 46 Láng Hạ, Láng Hạ, Đống...</td>\n",
       "    </tr>\n",
       "    <tr>\n",
       "      <th>2</th>\n",
       "      <td>Mã: 3798561</td>\n",
       "      <td>Xe mới 2022</td>\n",
       "      <td>Honda CRV L - 2022</td>\n",
       "      <td>Lắp ráp trong nước</td>\n",
       "      <td>SUV</td>\n",
       "      <td>0 Km</td>\n",
       "      <td>Xanh</td>\n",
       "      <td>-</td>\n",
       "      <td>5 cửa</td>\n",
       "      <td>7 chỗ</td>\n",
       "      <td>Xăng\\t1.5 L</td>\n",
       "      <td>Số tự động</td>\n",
       "      <td>1 Tỷ 83 Triệu</td>\n",
       "      <td>Hà Nội</td>\n",
       "      <td>Liên hệ: Honda ô tô An Khánh Km9a+800 Đại Lộ ...</td>\n",
       "    </tr>\n",
       "    <tr>\n",
       "      <th>3</th>\n",
       "      <td>Mã: 4198231</td>\n",
       "      <td>Xe mới 2022</td>\n",
       "      <td>Hyundai Tucson 2.0 AT Đặc biệt - 2022</td>\n",
       "      <td>Lắp ráp trong nước</td>\n",
       "      <td>Crossover</td>\n",
       "      <td>0 Km</td>\n",
       "      <td>Đỏ</td>\n",
       "      <td>Đen</td>\n",
       "      <td>5 cửa</td>\n",
       "      <td>5 chỗ</td>\n",
       "      <td>Xăng\\t2.0 L</td>\n",
       "      <td>Số tự động</td>\n",
       "      <td>925 Triệu</td>\n",
       "      <td>Hà Nội</td>\n",
       "      <td>Liên hệ: Hyundai Cầu Diễn Ô 2 - Lô 1, Cụm CN ...</td>\n",
       "    </tr>\n",
       "    <tr>\n",
       "      <th>4</th>\n",
       "      <td>Mã: 4297072</td>\n",
       "      <td>Xe cũ 2021</td>\n",
       "      <td>Mercedes Benz E class E300 AMG - 2021</td>\n",
       "      <td>Lắp ráp trong nước</td>\n",
       "      <td>Sedan</td>\n",
       "      <td>0 Km</td>\n",
       "      <td>Đen</td>\n",
       "      <td>Đen</td>\n",
       "      <td>4 cửa</td>\n",
       "      <td>5 chỗ</td>\n",
       "      <td>Xăng\\t2.0 L</td>\n",
       "      <td>Số tự động</td>\n",
       "      <td>2 Tỷ 879 Triệu</td>\n",
       "      <td>Hà Nội</td>\n",
       "      <td>Liên hệ: Mercedes - Benz An Du Hà Nội - Used ...</td>\n",
       "    </tr>\n",
       "  </tbody>\n",
       "</table>\n",
       "</div>"
      ],
      "text/plain": [
       "               ID       Category                                    Name  \\\n",
       "0    Mã: 4132055    Xe mới 2022      Mercedes Benz GLC 200 4Matic - 2022   \n",
       "1    Mã: 3868971    Xe mới 2022         Mercedes Benz GLB 200 AMG - 2022   \n",
       "2    Mã: 3798561    Xe mới 2022                       Honda CRV L - 2022   \n",
       "3    Mã: 4198231    Xe mới 2022    Hyundai Tucson 2.0 AT Đặc biệt - 2022   \n",
       "4    Mã: 4297072     Xe cũ 2021    Mercedes Benz E class E300 AMG - 2021   \n",
       "\n",
       "             Assemble       Type    Km CarColor InteriorColor CarDoor CarSeat  \\\n",
       "0  Lắp ráp trong nước        SUV  0 Km    Trắng           Kem   5 cửa   5 chỗ   \n",
       "1           Nhập khẩu        SUV  0 Km    Trắng      Màu khác   5 cửa   7 chỗ   \n",
       "2  Lắp ráp trong nước        SUV  0 Km     Xanh             -   5 cửa   7 chỗ   \n",
       "3  Lắp ráp trong nước  Crossover  0 Km       Đỏ           Đen   5 cửa   5 chỗ   \n",
       "4  Lắp ráp trong nước      Sedan  0 Km      Đen           Đen   4 cửa   5 chỗ   \n",
       "\n",
       "        Engine     Gearbox             Price  Location  \\\n",
       "0  Xăng\\t2.0 L  Số tự động    2 Tỷ 49 Triệu    Hà Nội    \n",
       "1  Xăng\\t1.3 L  Số tự động   1 Tỷ 989 Triệu    Hà Nội    \n",
       "2  Xăng\\t1.5 L  Số tự động    1 Tỷ 83 Triệu    Hà Nội    \n",
       "3  Xăng\\t2.0 L  Số tự động        925 Triệu    Hà Nội    \n",
       "4  Xăng\\t2.0 L  Số tự động   2 Tỷ 879 Triệu    Hà Nội    \n",
       "\n",
       "                                             Contact  \n",
       "0   Liên hệ: Lê Thị Vân Hà Nội Hà Nội ĐT: 0988 92...  \n",
       "1   Liên hệ: Lê Thị Vân 46 Láng Hạ, Láng Hạ, Đống...  \n",
       "2   Liên hệ: Honda ô tô An Khánh Km9a+800 Đại Lộ ...  \n",
       "3   Liên hệ: Hyundai Cầu Diễn Ô 2 - Lô 1, Cụm CN ...  \n",
       "4   Liên hệ: Mercedes - Benz An Du Hà Nội - Used ...  "
      ]
     },
     "execution_count": 29,
     "metadata": {},
     "output_type": "execute_result"
    }
   ],
   "source": [
    "file.head()"
   ]
  },
  {
   "cell_type": "markdown",
   "metadata": {},
   "source": [
    "Loại bỏ các cột không cần thiết trong quá trình xử lý"
   ]
  },
  {
   "cell_type": "code",
   "execution_count": 30,
   "metadata": {},
   "outputs": [
    {
     "data": {
      "text/html": [
       "<div>\n",
       "<style scoped>\n",
       "    .dataframe tbody tr th:only-of-type {\n",
       "        vertical-align: middle;\n",
       "    }\n",
       "\n",
       "    .dataframe tbody tr th {\n",
       "        vertical-align: top;\n",
       "    }\n",
       "\n",
       "    .dataframe thead th {\n",
       "        text-align: right;\n",
       "    }\n",
       "</style>\n",
       "<table border=\"1\" class=\"dataframe\">\n",
       "  <thead>\n",
       "    <tr style=\"text-align: right;\">\n",
       "      <th></th>\n",
       "      <th>Category</th>\n",
       "      <th>Name</th>\n",
       "      <th>Assemble</th>\n",
       "      <th>Type</th>\n",
       "      <th>Km</th>\n",
       "      <th>CarColor</th>\n",
       "      <th>InteriorColor</th>\n",
       "      <th>CarDoor</th>\n",
       "      <th>CarSeat</th>\n",
       "      <th>Engine</th>\n",
       "      <th>Gearbox</th>\n",
       "      <th>Price</th>\n",
       "      <th>Location</th>\n",
       "    </tr>\n",
       "  </thead>\n",
       "  <tbody>\n",
       "    <tr>\n",
       "      <th>0</th>\n",
       "      <td>Xe mới 2022</td>\n",
       "      <td>Mercedes Benz GLC 200 4Matic - 2022</td>\n",
       "      <td>Lắp ráp trong nước</td>\n",
       "      <td>SUV</td>\n",
       "      <td>0 Km</td>\n",
       "      <td>Trắng</td>\n",
       "      <td>Kem</td>\n",
       "      <td>5 cửa</td>\n",
       "      <td>5 chỗ</td>\n",
       "      <td>Xăng\\t2.0 L</td>\n",
       "      <td>Số tự động</td>\n",
       "      <td>2 Tỷ 49 Triệu</td>\n",
       "      <td>Hà Nội</td>\n",
       "    </tr>\n",
       "    <tr>\n",
       "      <th>1</th>\n",
       "      <td>Xe mới 2022</td>\n",
       "      <td>Mercedes Benz GLB 200 AMG - 2022</td>\n",
       "      <td>Nhập khẩu</td>\n",
       "      <td>SUV</td>\n",
       "      <td>0 Km</td>\n",
       "      <td>Trắng</td>\n",
       "      <td>Màu khác</td>\n",
       "      <td>5 cửa</td>\n",
       "      <td>7 chỗ</td>\n",
       "      <td>Xăng\\t1.3 L</td>\n",
       "      <td>Số tự động</td>\n",
       "      <td>1 Tỷ 989 Triệu</td>\n",
       "      <td>Hà Nội</td>\n",
       "    </tr>\n",
       "    <tr>\n",
       "      <th>2</th>\n",
       "      <td>Xe mới 2022</td>\n",
       "      <td>Honda CRV L - 2022</td>\n",
       "      <td>Lắp ráp trong nước</td>\n",
       "      <td>SUV</td>\n",
       "      <td>0 Km</td>\n",
       "      <td>Xanh</td>\n",
       "      <td>-</td>\n",
       "      <td>5 cửa</td>\n",
       "      <td>7 chỗ</td>\n",
       "      <td>Xăng\\t1.5 L</td>\n",
       "      <td>Số tự động</td>\n",
       "      <td>1 Tỷ 83 Triệu</td>\n",
       "      <td>Hà Nội</td>\n",
       "    </tr>\n",
       "    <tr>\n",
       "      <th>3</th>\n",
       "      <td>Xe mới 2022</td>\n",
       "      <td>Hyundai Tucson 2.0 AT Đặc biệt - 2022</td>\n",
       "      <td>Lắp ráp trong nước</td>\n",
       "      <td>Crossover</td>\n",
       "      <td>0 Km</td>\n",
       "      <td>Đỏ</td>\n",
       "      <td>Đen</td>\n",
       "      <td>5 cửa</td>\n",
       "      <td>5 chỗ</td>\n",
       "      <td>Xăng\\t2.0 L</td>\n",
       "      <td>Số tự động</td>\n",
       "      <td>925 Triệu</td>\n",
       "      <td>Hà Nội</td>\n",
       "    </tr>\n",
       "    <tr>\n",
       "      <th>4</th>\n",
       "      <td>Xe cũ 2021</td>\n",
       "      <td>Mercedes Benz E class E300 AMG - 2021</td>\n",
       "      <td>Lắp ráp trong nước</td>\n",
       "      <td>Sedan</td>\n",
       "      <td>0 Km</td>\n",
       "      <td>Đen</td>\n",
       "      <td>Đen</td>\n",
       "      <td>4 cửa</td>\n",
       "      <td>5 chỗ</td>\n",
       "      <td>Xăng\\t2.0 L</td>\n",
       "      <td>Số tự động</td>\n",
       "      <td>2 Tỷ 879 Triệu</td>\n",
       "      <td>Hà Nội</td>\n",
       "    </tr>\n",
       "  </tbody>\n",
       "</table>\n",
       "</div>"
      ],
      "text/plain": [
       "        Category                                    Name            Assemble  \\\n",
       "0   Xe mới 2022      Mercedes Benz GLC 200 4Matic - 2022  Lắp ráp trong nước   \n",
       "1   Xe mới 2022         Mercedes Benz GLB 200 AMG - 2022           Nhập khẩu   \n",
       "2   Xe mới 2022                       Honda CRV L - 2022  Lắp ráp trong nước   \n",
       "3   Xe mới 2022    Hyundai Tucson 2.0 AT Đặc biệt - 2022  Lắp ráp trong nước   \n",
       "4    Xe cũ 2021    Mercedes Benz E class E300 AMG - 2021  Lắp ráp trong nước   \n",
       "\n",
       "        Type    Km CarColor InteriorColor CarDoor CarSeat       Engine  \\\n",
       "0        SUV  0 Km    Trắng           Kem   5 cửa   5 chỗ  Xăng\\t2.0 L   \n",
       "1        SUV  0 Km    Trắng      Màu khác   5 cửa   7 chỗ  Xăng\\t1.3 L   \n",
       "2        SUV  0 Km     Xanh             -   5 cửa   7 chỗ  Xăng\\t1.5 L   \n",
       "3  Crossover  0 Km       Đỏ           Đen   5 cửa   5 chỗ  Xăng\\t2.0 L   \n",
       "4      Sedan  0 Km      Đen           Đen   4 cửa   5 chỗ  Xăng\\t2.0 L   \n",
       "\n",
       "      Gearbox             Price  Location  \n",
       "0  Số tự động    2 Tỷ 49 Triệu    Hà Nội   \n",
       "1  Số tự động   1 Tỷ 989 Triệu    Hà Nội   \n",
       "2  Số tự động    1 Tỷ 83 Triệu    Hà Nội   \n",
       "3  Số tự động        925 Triệu    Hà Nội   \n",
       "4  Số tự động   2 Tỷ 879 Triệu    Hà Nội   "
      ]
     },
     "execution_count": 30,
     "metadata": {},
     "output_type": "execute_result"
    }
   ],
   "source": [
    "file = file.drop(labels=[\"ID\",\"Contact\"], axis = 1)\n",
    "file.head()"
   ]
  },
  {
   "cell_type": "markdown",
   "metadata": {},
   "source": [
    "Phân loại tình trạng của xe và phân theo 2 loại Status(Trang thái) và Year(Năm đăng bán)"
   ]
  },
  {
   "cell_type": "code",
   "execution_count": 31,
   "metadata": {},
   "outputs": [],
   "source": [
    "file['Category'] = file['Category'].apply(lambda x : x.strip(' Xe ').replace(' ', ''))\n",
    "file['Status'] = file['Category'].apply(lambda a : a[:-4].replace('<',''))\n",
    "file.drop(labels = ['Category'], axis = 1, inplace = True)"
   ]
  },
  {
   "cell_type": "markdown",
   "metadata": {},
   "source": [
    "Xử lý Km đi được "
   ]
  },
  {
   "cell_type": "code",
   "execution_count": 32,
   "metadata": {},
   "outputs": [],
   "source": [
    "file['Km'] = file['Km'].apply(lambda x : x.replace(',', '').replace(' ','').replace('Km',''))"
   ]
  },
  {
   "cell_type": "markdown",
   "metadata": {},
   "source": [
    "Phân cột Engine thành 2 cột là cột EngineCar và Capacity(Dung tích)"
   ]
  },
  {
   "cell_type": "code",
   "execution_count": 33,
   "metadata": {},
   "outputs": [
    {
     "name": "stdout",
     "output_type": "stream",
     "text": [
      "['Xăng\\t2.0 L' 'Xăng\\t1.3 L' 'Xăng\\t1.5 L' 'Xăng\\t3.0 L' 'Xăng\\t1.25 L'\n",
      " 'Dầu\\t2.0 L' 'Xăng\\t1.4 L' 'Xăng\\t2.5 L' 'Dầu\\t2.5 L' 'Xăng\\t2.7 L'\n",
      " 'Dầu\\t2.2 L' 'Xăng\\t4.8 L' 'Hybrid\\t3.5 L' 'Xăng\\t1.6 L' 'Xăng\\t3.5 L'\n",
      " 'Xăng\\t3.2 L' 'Xăng\\t1.8 L' 'Dầu\\t1.9 L' 'Xăng\\t5.7 L' 'Xăng\\t4.6 L'\n",
      " 'Xăng\\t3.8 L' 'Dầu\\t2.4 L' 'Xăng\\t1.2 L' 'Xăng\\t1.0 L' 'Xăng'\n",
      " 'Điện\\t0.1 L' 'Xăng\\t4.5 L' 'Dầu\\t3.0 L' 'Xăng\\t3.6 L' 'Xăng\\t2.3 L'\n",
      " 'Xăng\\t2.4 L' 'Xăng\\t4.7 L' 'Xăng\\t4.0 L' 'Hybrid\\t1.8 L' 'Xăng\\t5.0 L'\n",
      " 'Dầu\\t2.1 L' 'Điện\\t0.2 L' 'Xăng\\t3.4 L' 'Dầu\\t3.2 L' 'Dầu' 'Xăng\\t3.3 L'\n",
      " 'Xăng\\t6.8 L' 'Hybrid\\t2.5 L' 'Xăng\\t3.7 L' 'Xăng\\t6.6 L' 'Xăng\\t2.6 L'\n",
      " 'Dầu\\t5.2 L' 'Dầu\\t2.8 L' 'Dầu\\t2.7 L' 'Xăng\\t2.9 L' 'Xăng\\t1.1 L'\n",
      " 'Xăng\\t5.3 L' '-' 'Dầu\\t4.2 L' 'Xăng\\t5.6 L' 'Xăng\\t6.0 L' 'Xăng\\t6.2 L'\n",
      " 'Dầu\\t2.3 L' 'Xăng\\t6.7 L' 'Hybrid']\n"
     ]
    }
   ],
   "source": [
    "print(file['Engine'].unique())\n",
    "file['Engine'] = file['Engine'].apply(lambda x : x.strip().split('\\t'))"
   ]
  },
  {
   "cell_type": "code",
   "execution_count": 34,
   "metadata": {},
   "outputs": [
    {
     "data": {
      "text/html": [
       "<div>\n",
       "<style scoped>\n",
       "    .dataframe tbody tr th:only-of-type {\n",
       "        vertical-align: middle;\n",
       "    }\n",
       "\n",
       "    .dataframe tbody tr th {\n",
       "        vertical-align: top;\n",
       "    }\n",
       "\n",
       "    .dataframe thead th {\n",
       "        text-align: right;\n",
       "    }\n",
       "</style>\n",
       "<table border=\"1\" class=\"dataframe\">\n",
       "  <thead>\n",
       "    <tr style=\"text-align: right;\">\n",
       "      <th></th>\n",
       "      <th>Name</th>\n",
       "      <th>Assemble</th>\n",
       "      <th>Type</th>\n",
       "      <th>Km</th>\n",
       "      <th>CarColor</th>\n",
       "      <th>InteriorColor</th>\n",
       "      <th>CarDoor</th>\n",
       "      <th>CarSeat</th>\n",
       "      <th>Gearbox</th>\n",
       "      <th>Price</th>\n",
       "      <th>Location</th>\n",
       "      <th>Status</th>\n",
       "      <th>EngineCar</th>\n",
       "      <th>Capacity</th>\n",
       "    </tr>\n",
       "  </thead>\n",
       "  <tbody>\n",
       "    <tr>\n",
       "      <th>0</th>\n",
       "      <td>Mercedes Benz GLC 200 4Matic - 2022</td>\n",
       "      <td>Lắp ráp trong nước</td>\n",
       "      <td>SUV</td>\n",
       "      <td>0</td>\n",
       "      <td>Trắng</td>\n",
       "      <td>Kem</td>\n",
       "      <td>5 cửa</td>\n",
       "      <td>5 chỗ</td>\n",
       "      <td>Số tự động</td>\n",
       "      <td>2 Tỷ 49 Triệu</td>\n",
       "      <td>Hà Nội</td>\n",
       "      <td>mới</td>\n",
       "      <td>Xăng</td>\n",
       "      <td>2.0</td>\n",
       "    </tr>\n",
       "    <tr>\n",
       "      <th>1</th>\n",
       "      <td>Mercedes Benz GLB 200 AMG - 2022</td>\n",
       "      <td>Nhập khẩu</td>\n",
       "      <td>SUV</td>\n",
       "      <td>0</td>\n",
       "      <td>Trắng</td>\n",
       "      <td>Màu khác</td>\n",
       "      <td>5 cửa</td>\n",
       "      <td>7 chỗ</td>\n",
       "      <td>Số tự động</td>\n",
       "      <td>1 Tỷ 989 Triệu</td>\n",
       "      <td>Hà Nội</td>\n",
       "      <td>mới</td>\n",
       "      <td>Xăng</td>\n",
       "      <td>1.3</td>\n",
       "    </tr>\n",
       "    <tr>\n",
       "      <th>2</th>\n",
       "      <td>Honda CRV L - 2022</td>\n",
       "      <td>Lắp ráp trong nước</td>\n",
       "      <td>SUV</td>\n",
       "      <td>0</td>\n",
       "      <td>Xanh</td>\n",
       "      <td>-</td>\n",
       "      <td>5 cửa</td>\n",
       "      <td>7 chỗ</td>\n",
       "      <td>Số tự động</td>\n",
       "      <td>1 Tỷ 83 Triệu</td>\n",
       "      <td>Hà Nội</td>\n",
       "      <td>mới</td>\n",
       "      <td>Xăng</td>\n",
       "      <td>1.5</td>\n",
       "    </tr>\n",
       "    <tr>\n",
       "      <th>3</th>\n",
       "      <td>Hyundai Tucson 2.0 AT Đặc biệt - 2022</td>\n",
       "      <td>Lắp ráp trong nước</td>\n",
       "      <td>Crossover</td>\n",
       "      <td>0</td>\n",
       "      <td>Đỏ</td>\n",
       "      <td>Đen</td>\n",
       "      <td>5 cửa</td>\n",
       "      <td>5 chỗ</td>\n",
       "      <td>Số tự động</td>\n",
       "      <td>925 Triệu</td>\n",
       "      <td>Hà Nội</td>\n",
       "      <td>mới</td>\n",
       "      <td>Xăng</td>\n",
       "      <td>2.0</td>\n",
       "    </tr>\n",
       "    <tr>\n",
       "      <th>4</th>\n",
       "      <td>Mercedes Benz E class E300 AMG - 2021</td>\n",
       "      <td>Lắp ráp trong nước</td>\n",
       "      <td>Sedan</td>\n",
       "      <td>0</td>\n",
       "      <td>Đen</td>\n",
       "      <td>Đen</td>\n",
       "      <td>4 cửa</td>\n",
       "      <td>5 chỗ</td>\n",
       "      <td>Số tự động</td>\n",
       "      <td>2 Tỷ 879 Triệu</td>\n",
       "      <td>Hà Nội</td>\n",
       "      <td>cũ</td>\n",
       "      <td>Xăng</td>\n",
       "      <td>2.0</td>\n",
       "    </tr>\n",
       "  </tbody>\n",
       "</table>\n",
       "</div>"
      ],
      "text/plain": [
       "                                     Name            Assemble       Type Km  \\\n",
       "0     Mercedes Benz GLC 200 4Matic - 2022  Lắp ráp trong nước        SUV  0   \n",
       "1        Mercedes Benz GLB 200 AMG - 2022           Nhập khẩu        SUV  0   \n",
       "2                      Honda CRV L - 2022  Lắp ráp trong nước        SUV  0   \n",
       "3   Hyundai Tucson 2.0 AT Đặc biệt - 2022  Lắp ráp trong nước  Crossover  0   \n",
       "4   Mercedes Benz E class E300 AMG - 2021  Lắp ráp trong nước      Sedan  0   \n",
       "\n",
       "  CarColor InteriorColor CarDoor CarSeat     Gearbox             Price  \\\n",
       "0    Trắng           Kem   5 cửa   5 chỗ  Số tự động    2 Tỷ 49 Triệu    \n",
       "1    Trắng      Màu khác   5 cửa   7 chỗ  Số tự động   1 Tỷ 989 Triệu    \n",
       "2     Xanh             -   5 cửa   7 chỗ  Số tự động    1 Tỷ 83 Triệu    \n",
       "3       Đỏ           Đen   5 cửa   5 chỗ  Số tự động        925 Triệu    \n",
       "4      Đen           Đen   4 cửa   5 chỗ  Số tự động   2 Tỷ 879 Triệu    \n",
       "\n",
       "   Location Status EngineCar Capacity  \n",
       "0   Hà Nội     mới      Xăng      2.0  \n",
       "1   Hà Nội     mới      Xăng      1.3  \n",
       "2   Hà Nội     mới      Xăng      1.5  \n",
       "3   Hà Nội     mới      Xăng      2.0  \n",
       "4   Hà Nội      cũ      Xăng      2.0  "
      ]
     },
     "execution_count": 34,
     "metadata": {},
     "output_type": "execute_result"
    }
   ],
   "source": [
    "def convert_First(first):\n",
    "    if len(first)<2:\n",
    "        first.append(\"0.0 L\")\n",
    "        return str(first[0])\n",
    "    else:\n",
    "        return str(first[0])\n",
    "def convert_Second(second):\n",
    "    return str(second[1])\n",
    "file['EngineCar'] = file['Engine'].apply(convert_First)\n",
    "file['Capacity'] = file['Engine'].apply(convert_Second) \n",
    "file.drop(labels = ['Engine'], axis = 1, inplace = True)\n",
    "file['Capacity'] = file['Capacity'].apply(lambda x : x.replace(' L', ''))\n",
    "file.head()"
   ]
  },
  {
   "cell_type": "markdown",
   "metadata": {},
   "source": [
    "Xử lý dữ liệu giá và chuyển thành đơn vị Triệu"
   ]
  },
  {
   "cell_type": "code",
   "execution_count": 35,
   "metadata": {},
   "outputs": [],
   "source": [
    "def convertPrice(price):\n",
    "    if 'Tỷ' in price and 'Triệu' in price:\n",
    "        return int(price[0])*1000 + int(price[2])\n",
    "  \n",
    "    elif 'Tỷ' in price:\n",
    "        return int(price[0])*1000\n",
    "  \n",
    "    else:\n",
    "        return int(price[0])\n",
    "file['Price'] = file['Price'].apply(lambda x : x.strip().split())\n",
    "file['Price'] = file['Price'].apply(convertPrice)"
   ]
  },
  {
   "cell_type": "markdown",
   "metadata": {},
   "source": [
    "Thêm 1 cột Trademark(Nhãn hàng) từ cột Name"
   ]
  },
  {
   "cell_type": "code",
   "execution_count": 36,
   "metadata": {},
   "outputs": [],
   "source": [
    "def convertName(name):\n",
    "    if(name[0] == \"Rolls\") or (name[0] == \"Mini\"):\n",
    "        return str(name[0])+\" \"+str(name[1])\n",
    "    else:\n",
    "        return str(name[0])\n",
    "def converProduction_year(year):\n",
    "    return str(year[len(year)-1])\n",
    "file['Trademark'] = file['Name'].apply(lambda x : x.strip().split())\n",
    "file['ProductionYear'] = file['Trademark'].apply(converProduction_year)\n",
    "file['Trademark'] = file['Trademark'].apply(convertName)"
   ]
  },
  {
   "cell_type": "code",
   "execution_count": 37,
   "metadata": {},
   "outputs": [
    {
     "data": {
      "text/html": [
       "<div>\n",
       "<style scoped>\n",
       "    .dataframe tbody tr th:only-of-type {\n",
       "        vertical-align: middle;\n",
       "    }\n",
       "\n",
       "    .dataframe tbody tr th {\n",
       "        vertical-align: top;\n",
       "    }\n",
       "\n",
       "    .dataframe thead th {\n",
       "        text-align: right;\n",
       "    }\n",
       "</style>\n",
       "<table border=\"1\" class=\"dataframe\">\n",
       "  <thead>\n",
       "    <tr style=\"text-align: right;\">\n",
       "      <th></th>\n",
       "      <th>Name</th>\n",
       "      <th>Assemble</th>\n",
       "      <th>Type</th>\n",
       "      <th>Km</th>\n",
       "      <th>CarColor</th>\n",
       "      <th>InteriorColor</th>\n",
       "      <th>CarDoor</th>\n",
       "      <th>CarSeat</th>\n",
       "      <th>Gearbox</th>\n",
       "      <th>Price</th>\n",
       "      <th>Location</th>\n",
       "      <th>Status</th>\n",
       "      <th>EngineCar</th>\n",
       "      <th>Capacity</th>\n",
       "      <th>Trademark</th>\n",
       "      <th>ProductionYear</th>\n",
       "    </tr>\n",
       "  </thead>\n",
       "  <tbody>\n",
       "    <tr>\n",
       "      <th>0</th>\n",
       "      <td>Mercedes Benz GLC 200 4Matic - 2022</td>\n",
       "      <td>Lắp ráp trong nước</td>\n",
       "      <td>SUV</td>\n",
       "      <td>0</td>\n",
       "      <td>Trắng</td>\n",
       "      <td>Kem</td>\n",
       "      <td>5</td>\n",
       "      <td>5</td>\n",
       "      <td>Số tự động</td>\n",
       "      <td>2049</td>\n",
       "      <td>Hà Nội</td>\n",
       "      <td>mới</td>\n",
       "      <td>Xăng</td>\n",
       "      <td>2.0</td>\n",
       "      <td>Mercedes</td>\n",
       "      <td>2022</td>\n",
       "    </tr>\n",
       "    <tr>\n",
       "      <th>1</th>\n",
       "      <td>Mercedes Benz GLB 200 AMG - 2022</td>\n",
       "      <td>Nhập khẩu</td>\n",
       "      <td>SUV</td>\n",
       "      <td>0</td>\n",
       "      <td>Trắng</td>\n",
       "      <td>Màu khác</td>\n",
       "      <td>5</td>\n",
       "      <td>7</td>\n",
       "      <td>Số tự động</td>\n",
       "      <td>1989</td>\n",
       "      <td>Hà Nội</td>\n",
       "      <td>mới</td>\n",
       "      <td>Xăng</td>\n",
       "      <td>1.3</td>\n",
       "      <td>Mercedes</td>\n",
       "      <td>2022</td>\n",
       "    </tr>\n",
       "    <tr>\n",
       "      <th>2</th>\n",
       "      <td>Honda CRV L - 2022</td>\n",
       "      <td>Lắp ráp trong nước</td>\n",
       "      <td>SUV</td>\n",
       "      <td>0</td>\n",
       "      <td>Xanh</td>\n",
       "      <td>-</td>\n",
       "      <td>5</td>\n",
       "      <td>7</td>\n",
       "      <td>Số tự động</td>\n",
       "      <td>1083</td>\n",
       "      <td>Hà Nội</td>\n",
       "      <td>mới</td>\n",
       "      <td>Xăng</td>\n",
       "      <td>1.5</td>\n",
       "      <td>Honda</td>\n",
       "      <td>2022</td>\n",
       "    </tr>\n",
       "    <tr>\n",
       "      <th>3</th>\n",
       "      <td>Hyundai Tucson 2.0 AT Đặc biệt - 2022</td>\n",
       "      <td>Lắp ráp trong nước</td>\n",
       "      <td>Crossover</td>\n",
       "      <td>0</td>\n",
       "      <td>Đỏ</td>\n",
       "      <td>Đen</td>\n",
       "      <td>5</td>\n",
       "      <td>5</td>\n",
       "      <td>Số tự động</td>\n",
       "      <td>925</td>\n",
       "      <td>Hà Nội</td>\n",
       "      <td>mới</td>\n",
       "      <td>Xăng</td>\n",
       "      <td>2.0</td>\n",
       "      <td>Hyundai</td>\n",
       "      <td>2022</td>\n",
       "    </tr>\n",
       "    <tr>\n",
       "      <th>4</th>\n",
       "      <td>Mercedes Benz E class E300 AMG - 2021</td>\n",
       "      <td>Lắp ráp trong nước</td>\n",
       "      <td>Sedan</td>\n",
       "      <td>0</td>\n",
       "      <td>Đen</td>\n",
       "      <td>Đen</td>\n",
       "      <td>4</td>\n",
       "      <td>5</td>\n",
       "      <td>Số tự động</td>\n",
       "      <td>2879</td>\n",
       "      <td>Hà Nội</td>\n",
       "      <td>cũ</td>\n",
       "      <td>Xăng</td>\n",
       "      <td>2.0</td>\n",
       "      <td>Mercedes</td>\n",
       "      <td>2021</td>\n",
       "    </tr>\n",
       "  </tbody>\n",
       "</table>\n",
       "</div>"
      ],
      "text/plain": [
       "                                     Name            Assemble       Type Km  \\\n",
       "0     Mercedes Benz GLC 200 4Matic - 2022  Lắp ráp trong nước        SUV  0   \n",
       "1        Mercedes Benz GLB 200 AMG - 2022           Nhập khẩu        SUV  0   \n",
       "2                      Honda CRV L - 2022  Lắp ráp trong nước        SUV  0   \n",
       "3   Hyundai Tucson 2.0 AT Đặc biệt - 2022  Lắp ráp trong nước  Crossover  0   \n",
       "4   Mercedes Benz E class E300 AMG - 2021  Lắp ráp trong nước      Sedan  0   \n",
       "\n",
       "  CarColor InteriorColor CarDoor CarSeat     Gearbox  Price  Location Status  \\\n",
       "0    Trắng           Kem       5       5  Số tự động   2049   Hà Nội     mới   \n",
       "1    Trắng      Màu khác       5       7  Số tự động   1989   Hà Nội     mới   \n",
       "2     Xanh             -       5       7  Số tự động   1083   Hà Nội     mới   \n",
       "3       Đỏ           Đen       5       5  Số tự động    925   Hà Nội     mới   \n",
       "4      Đen           Đen       4       5  Số tự động   2879   Hà Nội      cũ   \n",
       "\n",
       "  EngineCar Capacity Trademark ProductionYear  \n",
       "0      Xăng      2.0  Mercedes           2022  \n",
       "1      Xăng      1.3  Mercedes           2022  \n",
       "2      Xăng      1.5     Honda           2022  \n",
       "3      Xăng      2.0   Hyundai           2022  \n",
       "4      Xăng      2.0  Mercedes           2021  "
      ]
     },
     "execution_count": 37,
     "metadata": {},
     "output_type": "execute_result"
    }
   ],
   "source": [
    "file['CarDoor'] = file['CarDoor'].apply(lambda x : x.replace(' cửa',''))\n",
    "file['CarSeat'] = file['CarSeat'].apply(lambda x : x.replace(' chỗ',''))\n",
    "file.head()"
   ]
  },
  {
   "cell_type": "code",
   "execution_count": 38,
   "metadata": {},
   "outputs": [
    {
     "name": "stdout",
     "output_type": "stream",
     "text": [
      "['Kem' 'Màu khác' '-' 'Đen' 'Nâu' 'Ghi' 'Nhiều màu' 'Vàng' 'Xám' 'Đỏ'\n",
      " 'Trắng' 'Cam' 'Bạc']\n",
      "['5' '7' '4' '8' '16' '3' '6' '2' '10' '9' '0']\n",
      "['Xăng' 'Dầu' 'Hybrid' 'Điện' '-']\n"
     ]
    }
   ],
   "source": [
    "print(file[\"InteriorColor\"].unique())\n",
    "print(file[\"CarSeat\"].unique())\n",
    "print(file[\"EngineCar\"].unique())"
   ]
  },
  {
   "cell_type": "code",
   "execution_count": 39,
   "metadata": {},
   "outputs": [
    {
     "data": {
      "text/html": [
       "<div>\n",
       "<style scoped>\n",
       "    .dataframe tbody tr th:only-of-type {\n",
       "        vertical-align: middle;\n",
       "    }\n",
       "\n",
       "    .dataframe tbody tr th {\n",
       "        vertical-align: top;\n",
       "    }\n",
       "\n",
       "    .dataframe thead th {\n",
       "        text-align: right;\n",
       "    }\n",
       "</style>\n",
       "<table border=\"1\" class=\"dataframe\">\n",
       "  <thead>\n",
       "    <tr style=\"text-align: right;\">\n",
       "      <th></th>\n",
       "      <th>Name</th>\n",
       "      <th>Assemble</th>\n",
       "      <th>Type</th>\n",
       "      <th>Km</th>\n",
       "      <th>CarColor</th>\n",
       "      <th>InteriorColor</th>\n",
       "      <th>CarDoor</th>\n",
       "      <th>CarSeat</th>\n",
       "      <th>Gearbox</th>\n",
       "      <th>Price</th>\n",
       "      <th>Location</th>\n",
       "      <th>Status</th>\n",
       "      <th>EngineCar</th>\n",
       "      <th>Capacity</th>\n",
       "      <th>Trademark</th>\n",
       "      <th>ProductionYear</th>\n",
       "    </tr>\n",
       "  </thead>\n",
       "  <tbody>\n",
       "    <tr>\n",
       "      <th>0</th>\n",
       "      <td>Mercedes Benz GLC 200 4Matic - 2022</td>\n",
       "      <td>Lắp ráp trong nước</td>\n",
       "      <td>SUV</td>\n",
       "      <td>0</td>\n",
       "      <td>Trắng</td>\n",
       "      <td>Kem</td>\n",
       "      <td>5</td>\n",
       "      <td>5</td>\n",
       "      <td>Số tự động</td>\n",
       "      <td>2049</td>\n",
       "      <td>Hà Nội</td>\n",
       "      <td>mới</td>\n",
       "      <td>Xăng</td>\n",
       "      <td>2.0</td>\n",
       "      <td>Mercedes</td>\n",
       "      <td>2022</td>\n",
       "    </tr>\n",
       "    <tr>\n",
       "      <th>1</th>\n",
       "      <td>Mercedes Benz GLB 200 AMG - 2022</td>\n",
       "      <td>Nhập khẩu</td>\n",
       "      <td>SUV</td>\n",
       "      <td>0</td>\n",
       "      <td>Trắng</td>\n",
       "      <td>Màu khác</td>\n",
       "      <td>5</td>\n",
       "      <td>7</td>\n",
       "      <td>Số tự động</td>\n",
       "      <td>1989</td>\n",
       "      <td>Hà Nội</td>\n",
       "      <td>mới</td>\n",
       "      <td>Xăng</td>\n",
       "      <td>1.3</td>\n",
       "      <td>Mercedes</td>\n",
       "      <td>2022</td>\n",
       "    </tr>\n",
       "    <tr>\n",
       "      <th>2</th>\n",
       "      <td>Honda CRV L - 2022</td>\n",
       "      <td>Lắp ráp trong nước</td>\n",
       "      <td>SUV</td>\n",
       "      <td>0</td>\n",
       "      <td>Xanh</td>\n",
       "      <td>Đen</td>\n",
       "      <td>5</td>\n",
       "      <td>7</td>\n",
       "      <td>Số tự động</td>\n",
       "      <td>1083</td>\n",
       "      <td>Hà Nội</td>\n",
       "      <td>mới</td>\n",
       "      <td>Xăng</td>\n",
       "      <td>1.5</td>\n",
       "      <td>Honda</td>\n",
       "      <td>2022</td>\n",
       "    </tr>\n",
       "    <tr>\n",
       "      <th>3</th>\n",
       "      <td>Hyundai Tucson 2.0 AT Đặc biệt - 2022</td>\n",
       "      <td>Lắp ráp trong nước</td>\n",
       "      <td>Crossover</td>\n",
       "      <td>0</td>\n",
       "      <td>Đỏ</td>\n",
       "      <td>Đen</td>\n",
       "      <td>5</td>\n",
       "      <td>5</td>\n",
       "      <td>Số tự động</td>\n",
       "      <td>925</td>\n",
       "      <td>Hà Nội</td>\n",
       "      <td>mới</td>\n",
       "      <td>Xăng</td>\n",
       "      <td>2.0</td>\n",
       "      <td>Hyundai</td>\n",
       "      <td>2022</td>\n",
       "    </tr>\n",
       "    <tr>\n",
       "      <th>4</th>\n",
       "      <td>Mercedes Benz E class E300 AMG - 2021</td>\n",
       "      <td>Lắp ráp trong nước</td>\n",
       "      <td>Sedan</td>\n",
       "      <td>0</td>\n",
       "      <td>Đen</td>\n",
       "      <td>Đen</td>\n",
       "      <td>4</td>\n",
       "      <td>5</td>\n",
       "      <td>Số tự động</td>\n",
       "      <td>2879</td>\n",
       "      <td>Hà Nội</td>\n",
       "      <td>cũ</td>\n",
       "      <td>Xăng</td>\n",
       "      <td>2.0</td>\n",
       "      <td>Mercedes</td>\n",
       "      <td>2021</td>\n",
       "    </tr>\n",
       "  </tbody>\n",
       "</table>\n",
       "</div>"
      ],
      "text/plain": [
       "                                     Name            Assemble       Type Km  \\\n",
       "0     Mercedes Benz GLC 200 4Matic - 2022  Lắp ráp trong nước        SUV  0   \n",
       "1        Mercedes Benz GLB 200 AMG - 2022           Nhập khẩu        SUV  0   \n",
       "2                      Honda CRV L - 2022  Lắp ráp trong nước        SUV  0   \n",
       "3   Hyundai Tucson 2.0 AT Đặc biệt - 2022  Lắp ráp trong nước  Crossover  0   \n",
       "4   Mercedes Benz E class E300 AMG - 2021  Lắp ráp trong nước      Sedan  0   \n",
       "\n",
       "  CarColor InteriorColor CarDoor  CarSeat     Gearbox  Price  Location Status  \\\n",
       "0    Trắng           Kem       5        5  Số tự động   2049   Hà Nội     mới   \n",
       "1    Trắng      Màu khác       5        7  Số tự động   1989   Hà Nội     mới   \n",
       "2     Xanh           Đen       5        7  Số tự động   1083   Hà Nội     mới   \n",
       "3       Đỏ           Đen       5        5  Số tự động    925   Hà Nội     mới   \n",
       "4      Đen           Đen       4        5  Số tự động   2879   Hà Nội      cũ   \n",
       "\n",
       "  EngineCar Capacity Trademark ProductionYear  \n",
       "0      Xăng      2.0  Mercedes           2022  \n",
       "1      Xăng      1.3  Mercedes           2022  \n",
       "2      Xăng      1.5     Honda           2022  \n",
       "3      Xăng      2.0   Hyundai           2022  \n",
       "4      Xăng      2.0  Mercedes           2021  "
      ]
     },
     "execution_count": 39,
     "metadata": {},
     "output_type": "execute_result"
    }
   ],
   "source": [
    "# Thay thế các dữ liệu - trong màu nội thất bằng mode\n",
    "color = file[\"InteriorColor\"].mode()[0]\n",
    "file[\"InteriorColor\"] = file[\"InteriorColor\"].apply(lambda x : x.replace('-',color))\n",
    "# Chuyển CarSeat sang kiểu int\n",
    "file[\"CarSeat\"] = file[\"CarSeat\"].astype(int)\n",
    "# Thay thế các dữ liệu 0 trong số chỗ ngồi bằng mode\n",
    "carseat = file[\"CarSeat\"].mode()[0]    \n",
    "file[\"CarSeat\"] = file[\"CarSeat\"].replace(0,carseat)\n",
    "# Thay thế các dữ liệu - trong loai đồng cơ bằng mode\n",
    "color = file[\"EngineCar\"].mode()[0]\n",
    "file[\"EngineCar\"] = file[\"EngineCar\"].apply(lambda x : x.replace('-',color))\n",
    "file.head()"
   ]
  },
  {
   "cell_type": "markdown",
   "metadata": {},
   "source": [
    "Đổi các dữ liệu cần thiết sang dạng số"
   ]
  },
  {
   "cell_type": "code",
   "execution_count": 40,
   "metadata": {},
   "outputs": [],
   "source": [
    "file[\"Km\"] = file[\"Km\"].astype(int)\n",
    "file[\"CarDoor\"] = file[\"CarDoor\"].astype(int)\n",
    "file[\"CarSeat\"] = file[\"CarSeat\"].astype(int)\n",
    "file[\"ProductionYear\"] = file[\"ProductionYear\"].astype(int)\n",
    "file[\"Capacity\"] = file[\"Capacity\"].astype(float)"
   ]
  },
  {
   "cell_type": "markdown",
   "metadata": {},
   "source": [
    "Ghi dữ liệu vào file \"data_clean.csv\""
   ]
  },
  {
   "cell_type": "code",
   "execution_count": 41,
   "metadata": {},
   "outputs": [
    {
     "name": "stdout",
     "output_type": "stream",
     "text": [
      "<class 'pandas.core.frame.DataFrame'>\n",
      "Int64Index: 1950 entries, 0 to 1979\n",
      "Data columns (total 16 columns):\n",
      " #   Column          Non-Null Count  Dtype  \n",
      "---  ------          --------------  -----  \n",
      " 0   Name            1950 non-null   object \n",
      " 1   Assemble        1950 non-null   object \n",
      " 2   Type            1950 non-null   object \n",
      " 3   Km              1950 non-null   int32  \n",
      " 4   CarColor        1950 non-null   object \n",
      " 5   InteriorColor   1950 non-null   object \n",
      " 6   CarDoor         1950 non-null   int32  \n",
      " 7   CarSeat         1950 non-null   int32  \n",
      " 8   Gearbox         1950 non-null   object \n",
      " 9   Price           1950 non-null   int64  \n",
      " 10  Location        1950 non-null   object \n",
      " 11  Status          1950 non-null   object \n",
      " 12  EngineCar       1950 non-null   object \n",
      " 13  Capacity        1950 non-null   float64\n",
      " 14  Trademark       1950 non-null   object \n",
      " 15  ProductionYear  1950 non-null   int32  \n",
      "dtypes: float64(1), int32(4), int64(1), object(10)\n",
      "memory usage: 228.5+ KB\n"
     ]
    }
   ],
   "source": [
    "# file.to_csv(r'data_clean.csv', index=False)\n",
    "file.info()"
   ]
  },
  {
   "cell_type": "markdown",
   "metadata": {},
   "source": [
    "Sau khi đã làm sạch dữ liệu thì hiện giờ dataset có tổng 16 cột"
   ]
  },
  {
   "cell_type": "markdown",
   "metadata": {},
   "source": [
    "### Mô tả trực quan về các đặc trưng"
   ]
  },
  {
   "cell_type": "code",
   "execution_count": 42,
   "metadata": {},
   "outputs": [
    {
     "data": {
      "text/plain": [
       "<AxesSubplot:title={'center':'Distribution'}, ylabel='Status'>"
      ]
     },
     "execution_count": 42,
     "metadata": {},
     "output_type": "execute_result"
    },
    {
     "data": {
      "image/png": "[encoded data removed]",
      "text/plain": [
       "<Figure size 500x500 with 1 Axes>"
      ]
     },
     "metadata": {},
     "output_type": "display_data"
    }
   ],
   "source": [
    "plt.figure(1, figsize=(5,5), dpi = 100)\n",
    "plt.title(\"Distribution\")\n",
    "file['Status'].value_counts().plot.pie(autopct=\"%1.1f%%\")"
   ]
  },
  {
   "cell_type": "markdown",
   "metadata": {},
   "source": [
    "Nhận Xét: \n",
    "- Đồ thị biểu diễn số lượng phần trăm số lượng xe mới so với xe cũ trên dataset mà chúng ta crawl về \n",
    "- Phần trăm xe mới là 44.6 %, phần trăm xe cũ 55.4% \n",
    "- Điều đó thể hiện số lượng xe mới và cũ cần bán là gần bằng nhau "
   ]
  },
  {
   "cell_type": "code",
   "execution_count": 43,
   "metadata": {},
   "outputs": [
    {
     "data": {
      "text/plain": [
       "<AxesSubplot:xlabel='Price', ylabel='Count'>"
      ]
     },
     "execution_count": 43,
     "metadata": {},
     "output_type": "execute_result"
    },
    {
     "data": {
      "image/png": "[encoded data removed]",
      "text/plain": [
       "<Figure size 1080x576 with 1 Axes>"
      ]
     },
     "metadata": {},
     "output_type": "display_data"
    }
   ],
   "source": [
    "fig, ax = plt.subplots()\n",
    "fig.set_size_inches(15, 8)\n",
    "sns.histplot(file['Price'],kde=True)"
   ]
  },
  {
   "cell_type": "markdown",
   "metadata": {},
   "source": [
    "Nhận xét: \n",
    "- Đồ thị biểu diễn cho giá tiền của tất cả các xe đăng bán trong dataset\n",
    "- Giá xe được dăng bán nhiều nhất nằm trong khoản từ 0 -> 5 tỷ và nhiều nhất từ khoảng 2 tỷ"
   ]
  },
  {
   "cell_type": "code",
   "execution_count": 44,
   "metadata": {},
   "outputs": [
    {
     "data": {
      "text/plain": [
       "<AxesSubplot:xlabel='Type', ylabel='Price'>"
      ]
     },
     "execution_count": 44,
     "metadata": {},
     "output_type": "execute_result"
    },
    {
     "data": {
      "image/png": "[encoded data removed]",
      "text/plain": [
       "<Figure size 1080x576 with 1 Axes>"
      ]
     },
     "metadata": {},
     "output_type": "display_data"
    }
   ],
   "source": [
    "#Đồ thị biểu diễn mối quan hệ của đặc trưng Type và Price\n",
    "fig, ax = plt.subplots()\n",
    "fig.set_size_inches(15, 8)\n",
    "sns.boxplot(x=file['Type'], y=file['Price'])"
   ]
  },
  {
   "cell_type": "markdown",
   "metadata": {},
   "source": [
    "Nhận xét: \n",
    "- Đồ thị biểu diễn loại xe dựa trên giá tiền\n",
    "- Có 9 loại xe trong dataset\n",
    "- Gía trung bình cao nhất của SUV tầm 5 tỷ, Crossover tầm 1.5 tỷ, Sedan 3 tỷ, Hatchback 1.3 tỷ, Pickup 1.5 tỷ, Convertible tầm 3 tỷ, Van/Minivan tầm 2.5 tỷ, Couple 2.4 tỷ, Truck tầm\n",
    "2.3 tỷ\n",
    "- Ngoài ra còn có nhiều giá cao hơn giá trị trung bình, nhiều nhất là ở SUV và Sedan "
   ]
  },
  {
   "cell_type": "code",
   "execution_count": 45,
   "metadata": {},
   "outputs": [
    {
     "data": {
      "text/plain": [
       "<AxesSubplot:xlabel='CarDoor', ylabel='Price'>"
      ]
     },
     "execution_count": 45,
     "metadata": {},
     "output_type": "execute_result"
    },
    {
     "data": {
      "image/png": "[encoded data removed]",
      "text/plain": [
       "<Figure size 1080x576 with 1 Axes>"
      ]
     },
     "metadata": {},
     "output_type": "display_data"
    }
   ],
   "source": [
    "fig, ax = plt.subplots()\n",
    "fig.set_size_inches(15, 8)\n",
    "sns.boxplot(x=file['CarDoor'], y=file['Price'])"
   ]
  },
  {
   "cell_type": "markdown",
   "metadata": {},
   "source": [
    "Nhận xét: \n",
    "- Đồ thị biểu diễn số cửa dựa trên giá tiền\n",
    "- Có 5 loại cửa trong dataset\n",
    "- Gía trung bình cao nhất của 2 cửa tầm 2.5 tỷ, 3 cửa tầm 2.5 tỷ, 4 của 2.4 tỷ, 5 cửa 3 tỷ, 6 cửa 2.5 tỷ\n",
    "- Ngoài ra còn có nhiều giá cao hơn giá trị trung bình, nhiều nhất là ở 4 cửa là 5 cửa\n",
    "- Từ đó suy ra được xu thế hiện nay thường các xe có tầm 4 đến 5 cửa được ưa thích hơn nên mới có giá cao hơn so với bình thường"
   ]
  },
  {
   "cell_type": "code",
   "execution_count": 46,
   "metadata": {},
   "outputs": [
    {
     "data": {
      "text/plain": [
       "[Text(0.5, 1.0, 'Số lượng xe nhãn hiệu'), Text(0.5, 0, 'Count')]"
      ]
     },
     "execution_count": 46,
     "metadata": {},
     "output_type": "execute_result"
    },
    {
     "data": {
      "image/png": "[encoded data removed]",
      "text/plain": [
       "<Figure size 1080x576 with 1 Axes>"
      ]
     },
     "metadata": {},
     "output_type": "display_data"
    }
   ],
   "source": [
    "fig, ax = plt.subplots()\n",
    "fig.set_size_inches(15, 8)\n",
    "# Print the total number of unique categories\n",
    "num_categories = file['Trademark'].nunique()\n",
    "# Count the number of apps in each 'Trademark'. \n",
    "num_apps_in_category = file['Trademark'].value_counts()\n",
    "# print(num_apps_in_category)\n",
    "ax.barh(num_apps_in_category.index[:5],num_apps_in_category.values[:5])\n",
    "ax.set(title=\"Số lượng xe nhãn hiệu\",xlabel='Count')"
   ]
  },
  {
   "cell_type": "markdown",
   "metadata": {},
   "source": [
    "Nhận xét: \n",
    "- Đồ thị biểu diễn số lượng xe dựa trên nhãn hiệu\n",
    "- Số xe của nhãn hiệu Mercedes xấp xỉ bằng số lượng xe thuộc nhãn hiệu Toyota \n",
    "- Các xe thuộc các thể loại thuộc top 5 có số lượng gần bằng nhãn hiệu đứng trên nó"
   ]
  },
  {
   "cell_type": "code",
   "execution_count": 47,
   "metadata": {},
   "outputs": [
    {
     "data": {
      "image/png": "[encoded data removed]",
      "text/plain": [
       "<Figure size 1080x576 with 1 Axes>"
      ]
     },
     "metadata": {},
     "output_type": "display_data"
    }
   ],
   "source": [
    "fig, ax = plt.subplots()\n",
    "fig.set_size_inches(15, 8)\n",
    "# Examine the price trend by plotting Price vs Category\n",
    "ax = sns.stripplot(x = file['Price'], y = file['Trademark'], jitter=True, linewidth=1)"
   ]
  },
  {
   "cell_type": "markdown",
   "metadata": {},
   "source": [
    "Nhận xét: \n",
    "- Đồ thị biểu diễn giá tiền dựa trên các hãng xe\n",
    "- Trong đó Rolls Royce tuy có số lượng đăng bán ít nhưng giá tiền rất cao, có xe cao nhất vào 28 Tỷ"
   ]
  },
  {
   "cell_type": "code",
   "execution_count": 48,
   "metadata": {},
   "outputs": [
    {
     "data": {
      "text/plain": [
       "[Text(0.5, 1.0, 'Số lượng xe theo màu'), Text(0.5, 0, 'Count')]"
      ]
     },
     "execution_count": 48,
     "metadata": {},
     "output_type": "execute_result"
    },
    {
     "data": {
      "image/png": "[encoded data removed]",
      "text/plain": [
       "<Figure size 1080x576 with 1 Axes>"
      ]
     },
     "metadata": {},
     "output_type": "display_data"
    }
   ],
   "source": [
    "fig, ax = plt.subplots()\n",
    "fig.set_size_inches(15, 8)\n",
    "# Print the total number of unique categories\n",
    "num_categories = file['CarColor'].nunique()\n",
    "# Count the number of apps in each 'CarColor'. \n",
    "num_apps_in_category = file['CarColor'].value_counts()\n",
    "# print(num_apps_in_category)\n",
    "ax.barh(num_apps_in_category.index[:5],num_apps_in_category.values[:5])\n",
    "ax.set(title=\"Số lượng xe theo màu\",xlabel='Count')"
   ]
  },
  {
   "cell_type": "markdown",
   "metadata": {},
   "source": [
    "Nhận xét: \n",
    "- Đồ thị trên biểu diễn số xe theo màu\n",
    "- Các loại xe có màu trắng được đăng bán nhiều nhất só lượng gần 650 xe\n",
    "- Xếp sau đó là màu đen thấp hơn khoảng 200 xe"
   ]
  }
 ],
 "metadata": {
  "kernelspec": {
   "display_name": "Python 3.10.2 64-bit",
   "language": "python",
   "name": "python3"
  },
  "language_info": {
   "codemirror_mode": {
    "name": "ipython",
    "version": 3
   },
   "file_extension": ".py",
   "mimetype": "text/x-python",
   "name": "python",
   "nbconvert_exporter": "python",
   "pygments_lexer": "ipython3",
   "version": "3.10.2"
  },
  "orig_nbformat": 4,
  "vscode": {
   "interpreter": {
    "hash": "a42ccb73e7d9bfdf27e036f1d2b8b681e55fc0743cc5586bc2474d4a60f4b886"
   }
  }
 },
 "nbformat": 4,
 "nbformat_minor": 2
}
